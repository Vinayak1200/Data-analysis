{
 "cells": [
  {
   "cell_type": "markdown",
   "metadata": {},
   "source": [
    "QUESTIONS TO BE ANSWERED BY THIS DATA ANALYSIS:\n",
    "\n",
    "Which year has the highest release of movies?\n",
    "\n",
    "Which Movie Has The Highest Or Lowest Profit? Top 10 movies which earn highest profit?\n",
    "\n",
    "Movie with Highest And Lowest Budget?\n",
    "\n",
    "Which movie made the highest revenue and lowest as well?\n",
    "\n",
    "Movie with shortest and longest runtime?\n",
    "\n",
    "Which movie get the highest or lowest votes (Ratings).\n",
    "\n",
    "Which Year Has The Highest Profit Rate?\n",
    "\n",
    "Which length movies are most liked by the audiences according to their popularity?\n",
    "\n",
    "Average Runtime Of Movies From Year To Year?\n",
    "\n",
    "How Does The Revenue And Popularity differs Budget And Runtime? And How Does Popularity Depends On Profit?\n",
    "\n",
    "Which Month Released Highest Number Of Movies In All Of The Years? And Which Month Made The Highest Average Revenue?\n",
    "\n",
    "Which Genre Has The Highest Release Of Movies?\n",
    "\n",
    "Top 20 Production Companies With Higher Number Of Release?\n",
    "\n",
    "Life Time Profit Earn By Each Production Company?\n",
    "\n",
    "Top 20 Director Who Directs Maximum Movies?"
   ]
  },
  {
   "cell_type": "markdown",
   "metadata": {},
   "source": [
    "Import necessary libraries"
   ]
  },
  {
   "cell_type": "code",
   "execution_count": 1,
   "metadata": {},
   "outputs": [],
   "source": [
    "import pandas as pd \n",
    "import numpy as np \n",
    "import matplotlib.pyplot as plt"
   ]
  },
  {
   "cell_type": "markdown",
   "metadata": {},
   "source": [
    "View and clean the data"
   ]
  },
  {
   "cell_type": "code",
   "execution_count": 2,
   "metadata": {},
   "outputs": [
    {
     "data": {
      "text/html": [
       "<div>\n",
       "<style scoped>\n",
       "    .dataframe tbody tr th:only-of-type {\n",
       "        vertical-align: middle;\n",
       "    }\n",
       "\n",
       "    .dataframe tbody tr th {\n",
       "        vertical-align: top;\n",
       "    }\n",
       "\n",
       "    .dataframe thead th {\n",
       "        text-align: right;\n",
       "    }\n",
       "</style>\n",
       "<table border=\"1\" class=\"dataframe\">\n",
       "  <thead>\n",
       "    <tr style=\"text-align: right;\">\n",
       "      <th></th>\n",
       "      <th>id</th>\n",
       "      <th>imdb_id</th>\n",
       "      <th>popularity</th>\n",
       "      <th>budget</th>\n",
       "      <th>revenue</th>\n",
       "      <th>original_title</th>\n",
       "      <th>cast</th>\n",
       "      <th>homepage</th>\n",
       "      <th>director</th>\n",
       "      <th>tagline</th>\n",
       "      <th>...</th>\n",
       "      <th>overview</th>\n",
       "      <th>runtime</th>\n",
       "      <th>genres</th>\n",
       "      <th>production_companies</th>\n",
       "      <th>release_date</th>\n",
       "      <th>vote_count</th>\n",
       "      <th>vote_average</th>\n",
       "      <th>release_year</th>\n",
       "      <th>budget_adj</th>\n",
       "      <th>revenue_adj</th>\n",
       "    </tr>\n",
       "  </thead>\n",
       "  <tbody>\n",
       "    <tr>\n",
       "      <th>1</th>\n",
       "      <td>135397</td>\n",
       "      <td>tt0369610</td>\n",
       "      <td>32.985763</td>\n",
       "      <td>150000000</td>\n",
       "      <td>1513528810</td>\n",
       "      <td>Jurassic World</td>\n",
       "      <td>Chris Pratt|Bryce Dallas Howard|Irrfan Khan|Vi...</td>\n",
       "      <td>http://www.jurassicworld.com/</td>\n",
       "      <td>Colin Trevorrow</td>\n",
       "      <td>The park is open.</td>\n",
       "      <td>...</td>\n",
       "      <td>Twenty-two years after the events of Jurassic ...</td>\n",
       "      <td>124</td>\n",
       "      <td>Action|Adventure|Science Fiction|Thriller</td>\n",
       "      <td>Universal Studios|Amblin Entertainment|Legenda...</td>\n",
       "      <td>6/9/2015</td>\n",
       "      <td>5562</td>\n",
       "      <td>6.5</td>\n",
       "      <td>2015</td>\n",
       "      <td>137999939.3</td>\n",
       "      <td>1392445893</td>\n",
       "    </tr>\n",
       "    <tr>\n",
       "      <th>2</th>\n",
       "      <td>76341</td>\n",
       "      <td>tt1392190</td>\n",
       "      <td>28.419936</td>\n",
       "      <td>150000000</td>\n",
       "      <td>378436354</td>\n",
       "      <td>Mad Max: Fury Road</td>\n",
       "      <td>Tom Hardy|Charlize Theron|Hugh Keays-Byrne|Nic...</td>\n",
       "      <td>http://www.madmaxmovie.com/</td>\n",
       "      <td>George Miller</td>\n",
       "      <td>What a Lovely Day.</td>\n",
       "      <td>...</td>\n",
       "      <td>An apocalyptic story set in the furthest reach...</td>\n",
       "      <td>120</td>\n",
       "      <td>Action|Adventure|Science Fiction|Thriller</td>\n",
       "      <td>Village Roadshow Pictures|Kennedy Miller Produ...</td>\n",
       "      <td>5/13/2015</td>\n",
       "      <td>6185</td>\n",
       "      <td>7.1</td>\n",
       "      <td>2015</td>\n",
       "      <td>137999939.3</td>\n",
       "      <td>348161292.5</td>\n",
       "    </tr>\n",
       "    <tr>\n",
       "      <th>3</th>\n",
       "      <td>262500</td>\n",
       "      <td>tt2908446</td>\n",
       "      <td>13.112507</td>\n",
       "      <td>110000000</td>\n",
       "      <td>295238201</td>\n",
       "      <td>Insurgent</td>\n",
       "      <td>Shailene Woodley|Theo James|Kate Winslet|Ansel...</td>\n",
       "      <td>http://www.thedivergentseries.movie/#insurgent</td>\n",
       "      <td>Robert Schwentke</td>\n",
       "      <td>One Choice Can Destroy You</td>\n",
       "      <td>...</td>\n",
       "      <td>Beatrice Prior must confront her inner demons ...</td>\n",
       "      <td>119</td>\n",
       "      <td>Adventure|Science Fiction|Thriller</td>\n",
       "      <td>Summit Entertainment|Mandeville Films|Red Wago...</td>\n",
       "      <td>3/18/2015</td>\n",
       "      <td>2480</td>\n",
       "      <td>6.3</td>\n",
       "      <td>2015</td>\n",
       "      <td>101199955.5</td>\n",
       "      <td>271619025.4</td>\n",
       "    </tr>\n",
       "    <tr>\n",
       "      <th>4</th>\n",
       "      <td>140607</td>\n",
       "      <td>tt2488496</td>\n",
       "      <td>11.173104</td>\n",
       "      <td>200000000</td>\n",
       "      <td>2068178225</td>\n",
       "      <td>Star Wars: The Force Awakens</td>\n",
       "      <td>Harrison Ford|Mark Hamill|Carrie Fisher|Adam D...</td>\n",
       "      <td>http://www.starwars.com/films/star-wars-episod...</td>\n",
       "      <td>J.J. Abrams</td>\n",
       "      <td>Every generation has a story.</td>\n",
       "      <td>...</td>\n",
       "      <td>Thirty years after defeating the Galactic Empi...</td>\n",
       "      <td>136</td>\n",
       "      <td>Action|Adventure|Science Fiction|Fantasy</td>\n",
       "      <td>Lucasfilm|Truenorth Productions|Bad Robot</td>\n",
       "      <td>12/15/2015</td>\n",
       "      <td>5292</td>\n",
       "      <td>7.5</td>\n",
       "      <td>2015</td>\n",
       "      <td>183999919</td>\n",
       "      <td>1902723130</td>\n",
       "    </tr>\n",
       "    <tr>\n",
       "      <th>5</th>\n",
       "      <td>168259</td>\n",
       "      <td>tt2820852</td>\n",
       "      <td>9.335014</td>\n",
       "      <td>190000000</td>\n",
       "      <td>1506249360</td>\n",
       "      <td>Furious 7</td>\n",
       "      <td>Vin Diesel|Paul Walker|Jason Statham|Michelle ...</td>\n",
       "      <td>http://www.furious7.com/</td>\n",
       "      <td>James Wan</td>\n",
       "      <td>Vengeance Hits Home</td>\n",
       "      <td>...</td>\n",
       "      <td>Deckard Shaw seeks revenge against Dominic Tor...</td>\n",
       "      <td>137</td>\n",
       "      <td>Action|Crime|Thriller</td>\n",
       "      <td>Universal Pictures|Original Film|Media Rights ...</td>\n",
       "      <td>4/1/2015</td>\n",
       "      <td>2947</td>\n",
       "      <td>7.3</td>\n",
       "      <td>2015</td>\n",
       "      <td>174799923.1</td>\n",
       "      <td>1385748801</td>\n",
       "    </tr>\n",
       "  </tbody>\n",
       "</table>\n",
       "<p>5 rows × 21 columns</p>\n",
       "</div>"
      ],
      "text/plain": [
       "0      id    imdb_id popularity     budget     revenue  \\\n",
       "1  135397  tt0369610  32.985763  150000000  1513528810   \n",
       "2   76341  tt1392190  28.419936  150000000   378436354   \n",
       "3  262500  tt2908446  13.112507  110000000   295238201   \n",
       "4  140607  tt2488496  11.173104  200000000  2068178225   \n",
       "5  168259  tt2820852   9.335014  190000000  1506249360   \n",
       "\n",
       "0                original_title  \\\n",
       "1                Jurassic World   \n",
       "2            Mad Max: Fury Road   \n",
       "3                     Insurgent   \n",
       "4  Star Wars: The Force Awakens   \n",
       "5                     Furious 7   \n",
       "\n",
       "0                                               cast  \\\n",
       "1  Chris Pratt|Bryce Dallas Howard|Irrfan Khan|Vi...   \n",
       "2  Tom Hardy|Charlize Theron|Hugh Keays-Byrne|Nic...   \n",
       "3  Shailene Woodley|Theo James|Kate Winslet|Ansel...   \n",
       "4  Harrison Ford|Mark Hamill|Carrie Fisher|Adam D...   \n",
       "5  Vin Diesel|Paul Walker|Jason Statham|Michelle ...   \n",
       "\n",
       "0                                           homepage          director  \\\n",
       "1                      http://www.jurassicworld.com/   Colin Trevorrow   \n",
       "2                        http://www.madmaxmovie.com/     George Miller   \n",
       "3     http://www.thedivergentseries.movie/#insurgent  Robert Schwentke   \n",
       "4  http://www.starwars.com/films/star-wars-episod...       J.J. Abrams   \n",
       "5                           http://www.furious7.com/         James Wan   \n",
       "\n",
       "0                        tagline  ...  \\\n",
       "1              The park is open.  ...   \n",
       "2             What a Lovely Day.  ...   \n",
       "3     One Choice Can Destroy You  ...   \n",
       "4  Every generation has a story.  ...   \n",
       "5            Vengeance Hits Home  ...   \n",
       "\n",
       "0                                           overview runtime  \\\n",
       "1  Twenty-two years after the events of Jurassic ...     124   \n",
       "2  An apocalyptic story set in the furthest reach...     120   \n",
       "3  Beatrice Prior must confront her inner demons ...     119   \n",
       "4  Thirty years after defeating the Galactic Empi...     136   \n",
       "5  Deckard Shaw seeks revenge against Dominic Tor...     137   \n",
       "\n",
       "0                                     genres  \\\n",
       "1  Action|Adventure|Science Fiction|Thriller   \n",
       "2  Action|Adventure|Science Fiction|Thriller   \n",
       "3         Adventure|Science Fiction|Thriller   \n",
       "4   Action|Adventure|Science Fiction|Fantasy   \n",
       "5                      Action|Crime|Thriller   \n",
       "\n",
       "0                               production_companies release_date vote_count  \\\n",
       "1  Universal Studios|Amblin Entertainment|Legenda...     6/9/2015       5562   \n",
       "2  Village Roadshow Pictures|Kennedy Miller Produ...    5/13/2015       6185   \n",
       "3  Summit Entertainment|Mandeville Films|Red Wago...    3/18/2015       2480   \n",
       "4          Lucasfilm|Truenorth Productions|Bad Robot   12/15/2015       5292   \n",
       "5  Universal Pictures|Original Film|Media Rights ...     4/1/2015       2947   \n",
       "\n",
       "0 vote_average release_year   budget_adj  revenue_adj  \n",
       "1          6.5         2015  137999939.3   1392445893  \n",
       "2          7.1         2015  137999939.3  348161292.5  \n",
       "3          6.3         2015  101199955.5  271619025.4  \n",
       "4          7.5         2015    183999919   1902723130  \n",
       "5          7.3         2015  174799923.1   1385748801  \n",
       "\n",
       "[5 rows x 21 columns]"
      ]
     },
     "execution_count": 2,
     "metadata": {},
     "output_type": "execute_result"
    }
   ],
   "source": [
    "df = pd.read_excel(\"tmdb_movies_data.xlsx\")\n",
    "df.columns = df.iloc[0]                     #rename the columns\n",
    "df = df.drop(index = 0)\n",
    "df = df.dropna()\n",
    "df.head()"
   ]
  },
  {
   "cell_type": "markdown",
   "metadata": {},
   "source": [
    "Find the year with maximum movie releases"
   ]
  },
  {
   "cell_type": "code",
   "execution_count": 3,
   "metadata": {},
   "outputs": [
    {
     "name": "stdout",
     "output_type": "stream",
     "text": [
      "The maximum number of movie releases were in the year 2011\n",
      "The number of movies released in 2011 were 219\n"
     ]
    },
    {
     "data": {
      "image/png": "[encoded data removed]",
      "text/plain": [
       "<Figure size 432x288 with 1 Axes>"
      ]
     },
     "metadata": {
      "needs_background": "light"
     },
     "output_type": "display_data"
    }
   ],
   "source": [
    "n_releases = df.groupby([\"release_year\"]).size()            #create series containing data of number of releases in a year\n",
    "year = n_releases.index                             \n",
    "number_releases = n_releases.values   \n",
    "\n",
    "datadict = {\"Year of release\":year, \"Number of releases\":number_releases}\n",
    "new_df = pd.DataFrame(datadict)                                               #create new dataframe containing info about number of releases in a year\n",
    "new_df.head(100)    \n",
    "max_num = new_df[new_df['Number of releases']==max(new_df['Number of releases'])]\n",
    "print(\"The maximum number of movie releases were in the year {y}\".format(y=max_num.iloc[0, 0]))\n",
    "print(\"The number of movies released in {y} were {n}\".format(y=max_num.iloc[0, 0], n=max_num.iloc[0, 1]))\n",
    "\n",
    "\n",
    "plt.title(\"bar graph of year vs number of movie releases\")                 #plot a graph showing variation in number of movies releases with time\n",
    "plt.xlabel(\"year\")                                        \n",
    "plt.ylabel(\"number of releases\")\n",
    "plt.bar(year, number_releases, color = 'purple', width = 3)\n",
    "plt.show()"
   ]
  },
  {
   "cell_type": "markdown",
   "metadata": {},
   "source": [
    "Find which movie made most/least profits"
   ]
  },
  {
   "cell_type": "code",
   "execution_count": 4,
   "metadata": {},
   "outputs": [
    {
     "name": "stdout",
     "output_type": "stream",
     "text": [
      "The movie which made the most profit was Avatar, earning $2544505847.\n",
      "The movie which made the least profit was The Warrior's Way, incurring a loss of $-413912431.\n"
     ]
    }
   ],
   "source": [
    "df[\"Profit\"] = df[\"revenue\"]-df[\"budget\"]            #add a profit column to the dataframe\n",
    "df.head()     \n",
    "max_prof = df[df[\"Profit\"]==max(df['Profit'])]       #find which movie made the most profit     \n",
    "max_prof.head()                 \n",
    "print(\"The movie which made the most profit was {m}, earning ${x}.\".format(m = max_prof.iloc[0,5], x = max_prof.iloc[0, 21]))\n",
    "\n",
    "min_prof = df[df[\"Profit\"]==min(df[\"Profit\"])]        #find which movie made the least profit\n",
    "min_prof.head()\n",
    "print(\"The movie which made the least profit was {m}, incurring a loss of ${x}.\".format(m = min_prof.iloc[0,5], x = min_prof.iloc[0, 21]))\n"
   ]
  },
  {
   "cell_type": "markdown",
   "metadata": {},
   "source": [
    "Find top 10 highest earning movies"
   ]
  },
  {
   "cell_type": "code",
   "execution_count": 5,
   "metadata": {},
   "outputs": [
    {
     "name": "stdout",
     "output_type": "stream",
     "text": [
      "The top 10 most profitable movies are \n",
      "['Avatar' 'Star Wars: The Force Awakens' 'Titanic' 'Jurassic World'\n",
      " 'Furious 7' 'The Avengers' 'Harry Potter and the Deathly Hallows: Part 2'\n",
      " 'Avengers: Age of Ultron' 'Frozen' 'Minions']\n"
     ]
    },
    {
     "data": {
      "image/png": "[encoded data removed]",
      "text/plain": [
       "<Figure size 432x288 with 1 Axes>"
      ]
     },
     "metadata": {
      "needs_background": "light"
     },
     "output_type": "display_data"
    }
   ],
   "source": [
    "new_df = df.sort_values('Profit', ascending = False); #sorting the profit values in descending order\n",
    "new_df.head()\n",
    "top_10 = new_df.iloc[0:10, 5]\n",
    "print(\"The top 10 most profitable movies are \\n{m}\".format(m = top_10.values))\n",
    "\n",
    "y = new_df.iloc[0:10, 21]\n",
    "x = np.arange(1, 11, 1)\n",
    "plt.bar(x, y)\n",
    "plt.xticks(x, top_10.values, rotation=90)\n",
    "plt.show()\n",
    "\n"
   ]
  },
  {
   "cell_type": "markdown",
   "metadata": {},
   "source": [
    "Finding movie with most and least budget\n"
   ]
  },
  {
   "cell_type": "code",
   "execution_count": 6,
   "metadata": {},
   "outputs": [
    {
     "name": "stdout",
     "output_type": "stream",
     "text": [
      "The movie with the highest budget was The Warrior's Way\n"
     ]
    },
    {
     "data": {
      "text/html": [
       "<div>\n",
       "<style scoped>\n",
       "    .dataframe tbody tr th:only-of-type {\n",
       "        vertical-align: middle;\n",
       "    }\n",
       "\n",
       "    .dataframe tbody tr th {\n",
       "        vertical-align: top;\n",
       "    }\n",
       "\n",
       "    .dataframe thead th {\n",
       "        text-align: right;\n",
       "    }\n",
       "</style>\n",
       "<table border=\"1\" class=\"dataframe\">\n",
       "  <thead>\n",
       "    <tr style=\"text-align: right;\">\n",
       "      <th></th>\n",
       "      <th>id</th>\n",
       "      <th>imdb_id</th>\n",
       "      <th>popularity</th>\n",
       "      <th>budget</th>\n",
       "      <th>revenue</th>\n",
       "      <th>original_title</th>\n",
       "      <th>cast</th>\n",
       "      <th>homepage</th>\n",
       "      <th>director</th>\n",
       "      <th>tagline</th>\n",
       "      <th>...</th>\n",
       "      <th>runtime</th>\n",
       "      <th>genres</th>\n",
       "      <th>production_companies</th>\n",
       "      <th>release_date</th>\n",
       "      <th>vote_count</th>\n",
       "      <th>vote_average</th>\n",
       "      <th>release_year</th>\n",
       "      <th>budget_adj</th>\n",
       "      <th>revenue_adj</th>\n",
       "      <th>Profit</th>\n",
       "    </tr>\n",
       "  </thead>\n",
       "  <tbody>\n",
       "    <tr>\n",
       "      <th>31</th>\n",
       "      <td>280996</td>\n",
       "      <td>tt3168230</td>\n",
       "      <td>3.927333</td>\n",
       "      <td>0</td>\n",
       "      <td>29355203</td>\n",
       "      <td>Mr. Holmes</td>\n",
       "      <td>Ian McKellen|Milo Parker|Laura Linney|Hattie M...</td>\n",
       "      <td>http://www.mrholmesfilm.com/</td>\n",
       "      <td>Bill Condon</td>\n",
       "      <td>The man behind the myth</td>\n",
       "      <td>...</td>\n",
       "      <td>103</td>\n",
       "      <td>Mystery|Drama</td>\n",
       "      <td>BBC Films|See-Saw Films|FilmNation Entertainme...</td>\n",
       "      <td>6/19/2015</td>\n",
       "      <td>425</td>\n",
       "      <td>6.4</td>\n",
       "      <td>2015</td>\n",
       "      <td>0</td>\n",
       "      <td>27006774.88</td>\n",
       "      <td>29355203</td>\n",
       "    </tr>\n",
       "    <tr>\n",
       "      <th>76</th>\n",
       "      <td>308369</td>\n",
       "      <td>tt2582496</td>\n",
       "      <td>2.141506</td>\n",
       "      <td>0</td>\n",
       "      <td>0</td>\n",
       "      <td>Me and Earl and the Dying Girl</td>\n",
       "      <td>Thomas Mann|RJ Cyler|Olivia Cooke|Connie Britt...</td>\n",
       "      <td>http://www.foxsearchlight.com/meandearlandthed...</td>\n",
       "      <td>Alfonso Gomez-Rejon</td>\n",
       "      <td>A Little Friendship Never Killed Anyone.</td>\n",
       "      <td>...</td>\n",
       "      <td>105</td>\n",
       "      <td>Comedy|Drama</td>\n",
       "      <td>Indian Paintbrush</td>\n",
       "      <td>6/12/2015</td>\n",
       "      <td>569</td>\n",
       "      <td>7.7</td>\n",
       "      <td>2015</td>\n",
       "      <td>0</td>\n",
       "      <td>0</td>\n",
       "      <td>0</td>\n",
       "    </tr>\n",
       "    <tr>\n",
       "      <th>89</th>\n",
       "      <td>301875</td>\n",
       "      <td>tt3289728</td>\n",
       "      <td>1.959765</td>\n",
       "      <td>0</td>\n",
       "      <td>2000000</td>\n",
       "      <td>Equals</td>\n",
       "      <td>Kristen Stewart|Nicholas Hoult|Guy Pearce|Jack...</td>\n",
       "      <td>http://equals-the-movie.com/</td>\n",
       "      <td>Drake Doremus</td>\n",
       "      <td>Find your equal.</td>\n",
       "      <td>...</td>\n",
       "      <td>101</td>\n",
       "      <td>Drama|Romance|Science Fiction</td>\n",
       "      <td>Scott Free Productions|Infinite Frameworks Stu...</td>\n",
       "      <td>9/4/2015</td>\n",
       "      <td>135</td>\n",
       "      <td>5.6</td>\n",
       "      <td>2015</td>\n",
       "      <td>0</td>\n",
       "      <td>1839999.19</td>\n",
       "      <td>2000000</td>\n",
       "    </tr>\n",
       "    <tr>\n",
       "      <th>96</th>\n",
       "      <td>258509</td>\n",
       "      <td>tt2974918</td>\n",
       "      <td>1.841779</td>\n",
       "      <td>0</td>\n",
       "      <td>233755553</td>\n",
       "      <td>Alvin and the Chipmunks: The Road Chip</td>\n",
       "      <td>Jason Lee|Justin Long|Bella Thorne|Matthew Gra...</td>\n",
       "      <td>http://www.foxmovies.com/movies/alvin-and-the-...</td>\n",
       "      <td>Walt Becker</td>\n",
       "      <td>Fast &amp; furry-ous</td>\n",
       "      <td>...</td>\n",
       "      <td>92</td>\n",
       "      <td>Adventure|Animation|Comedy|Family</td>\n",
       "      <td>Regency Enterprises|Fox 2000 Pictures|Sunswept...</td>\n",
       "      <td>12/17/2015</td>\n",
       "      <td>278</td>\n",
       "      <td>5.7</td>\n",
       "      <td>2015</td>\n",
       "      <td>0</td>\n",
       "      <td>215055014.1</td>\n",
       "      <td>233755553</td>\n",
       "    </tr>\n",
       "    <tr>\n",
       "      <th>133</th>\n",
       "      <td>263109</td>\n",
       "      <td>tt2872750</td>\n",
       "      <td>1.25358</td>\n",
       "      <td>0</td>\n",
       "      <td>59700000</td>\n",
       "      <td>Shaun the Sheep Movie</td>\n",
       "      <td>Justin Fletcher|Omid Djalili|Richard Webber|Ka...</td>\n",
       "      <td>http://www.shaunthesheep.com/</td>\n",
       "      <td>Mark Burton|Richard Starzack</td>\n",
       "      <td>Moving on to Pastures New.</td>\n",
       "      <td>...</td>\n",
       "      <td>85</td>\n",
       "      <td>Family|Animation|Comedy|Adventure</td>\n",
       "      <td>Aardman Animations|Studio Canal|Anton Capital ...</td>\n",
       "      <td>2/5/2015</td>\n",
       "      <td>340</td>\n",
       "      <td>6.9</td>\n",
       "      <td>2015</td>\n",
       "      <td>0</td>\n",
       "      <td>54923975.83</td>\n",
       "      <td>59700000</td>\n",
       "    </tr>\n",
       "  </tbody>\n",
       "</table>\n",
       "<p>5 rows × 22 columns</p>\n",
       "</div>"
      ],
      "text/plain": [
       "0        id    imdb_id popularity budget    revenue  \\\n",
       "31   280996  tt3168230   3.927333      0   29355203   \n",
       "76   308369  tt2582496   2.141506      0          0   \n",
       "89   301875  tt3289728   1.959765      0    2000000   \n",
       "96   258509  tt2974918   1.841779      0  233755553   \n",
       "133  263109  tt2872750    1.25358      0   59700000   \n",
       "\n",
       "0                            original_title  \\\n",
       "31                               Mr. Holmes   \n",
       "76           Me and Earl and the Dying Girl   \n",
       "89                                   Equals   \n",
       "96   Alvin and the Chipmunks: The Road Chip   \n",
       "133                   Shaun the Sheep Movie   \n",
       "\n",
       "0                                                 cast  \\\n",
       "31   Ian McKellen|Milo Parker|Laura Linney|Hattie M...   \n",
       "76   Thomas Mann|RJ Cyler|Olivia Cooke|Connie Britt...   \n",
       "89   Kristen Stewart|Nicholas Hoult|Guy Pearce|Jack...   \n",
       "96   Jason Lee|Justin Long|Bella Thorne|Matthew Gra...   \n",
       "133  Justin Fletcher|Omid Djalili|Richard Webber|Ka...   \n",
       "\n",
       "0                                             homepage  \\\n",
       "31                        http://www.mrholmesfilm.com/   \n",
       "76   http://www.foxsearchlight.com/meandearlandthed...   \n",
       "89                        http://equals-the-movie.com/   \n",
       "96   http://www.foxmovies.com/movies/alvin-and-the-...   \n",
       "133                      http://www.shaunthesheep.com/   \n",
       "\n",
       "0                        director                                   tagline  \\\n",
       "31                    Bill Condon                   The man behind the myth   \n",
       "76            Alfonso Gomez-Rejon  A Little Friendship Never Killed Anyone.   \n",
       "89                  Drake Doremus                          Find your equal.   \n",
       "96                    Walt Becker                          Fast & furry-ous   \n",
       "133  Mark Burton|Richard Starzack                Moving on to Pastures New.   \n",
       "\n",
       "0    ... runtime                             genres  \\\n",
       "31   ...     103                      Mystery|Drama   \n",
       "76   ...     105                       Comedy|Drama   \n",
       "89   ...     101      Drama|Romance|Science Fiction   \n",
       "96   ...      92  Adventure|Animation|Comedy|Family   \n",
       "133  ...      85  Family|Animation|Comedy|Adventure   \n",
       "\n",
       "0                                 production_companies release_date  \\\n",
       "31   BBC Films|See-Saw Films|FilmNation Entertainme...    6/19/2015   \n",
       "76                                   Indian Paintbrush    6/12/2015   \n",
       "89   Scott Free Productions|Infinite Frameworks Stu...     9/4/2015   \n",
       "96   Regency Enterprises|Fox 2000 Pictures|Sunswept...   12/17/2015   \n",
       "133  Aardman Animations|Studio Canal|Anton Capital ...     2/5/2015   \n",
       "\n",
       "0   vote_count vote_average release_year budget_adj  revenue_adj     Profit  \n",
       "31         425          6.4         2015          0  27006774.88   29355203  \n",
       "76         569          7.7         2015          0            0          0  \n",
       "89         135          5.6         2015          0   1839999.19    2000000  \n",
       "96         278          5.7         2015          0  215055014.1  233755553  \n",
       "133        340          6.9         2015          0  54923975.83   59700000  \n",
       "\n",
       "[5 rows x 22 columns]"
      ]
     },
     "execution_count": 6,
     "metadata": {},
     "output_type": "execute_result"
    }
   ],
   "source": [
    "high_budget = df[df[\"budget\"]==max(df[\"budget\"])]#use boolean indexing to find df section with maximum profit\n",
    "high_budget.head()\n",
    "high_budget_movie = high_budget.iloc[0, 5]\n",
    "print(\"The movie with the highest budget was {m}\".format(m = high_budget_movie))\n",
    "\n",
    "low_budget = df[df[\"budget\"]==min(df[\"budget\"])]\n",
    "low_budget.head()"
   ]
  },
  {
   "cell_type": "markdown",
   "metadata": {},
   "source": [
    "Finding which movie made most and least revenue"
   ]
  },
  {
   "cell_type": "code",
   "execution_count": 7,
   "metadata": {},
   "outputs": [
    {
     "name": "stdout",
     "output_type": "stream",
     "text": [
      "The movie with the most revenue was Avatar\n"
     ]
    },
    {
     "data": {
      "text/html": [
       "<div>\n",
       "<style scoped>\n",
       "    .dataframe tbody tr th:only-of-type {\n",
       "        vertical-align: middle;\n",
       "    }\n",
       "\n",
       "    .dataframe tbody tr th {\n",
       "        vertical-align: top;\n",
       "    }\n",
       "\n",
       "    .dataframe thead th {\n",
       "        text-align: right;\n",
       "    }\n",
       "</style>\n",
       "<table border=\"1\" class=\"dataframe\">\n",
       "  <thead>\n",
       "    <tr style=\"text-align: right;\">\n",
       "      <th></th>\n",
       "      <th>id</th>\n",
       "      <th>imdb_id</th>\n",
       "      <th>popularity</th>\n",
       "      <th>budget</th>\n",
       "      <th>revenue</th>\n",
       "      <th>original_title</th>\n",
       "      <th>cast</th>\n",
       "      <th>homepage</th>\n",
       "      <th>director</th>\n",
       "      <th>tagline</th>\n",
       "      <th>...</th>\n",
       "      <th>runtime</th>\n",
       "      <th>genres</th>\n",
       "      <th>production_companies</th>\n",
       "      <th>release_date</th>\n",
       "      <th>vote_count</th>\n",
       "      <th>vote_average</th>\n",
       "      <th>release_year</th>\n",
       "      <th>budget_adj</th>\n",
       "      <th>revenue_adj</th>\n",
       "      <th>Profit</th>\n",
       "    </tr>\n",
       "  </thead>\n",
       "  <tbody>\n",
       "    <tr>\n",
       "      <th>68</th>\n",
       "      <td>334074</td>\n",
       "      <td>tt3247714</td>\n",
       "      <td>2.331636</td>\n",
       "      <td>20000000</td>\n",
       "      <td>0</td>\n",
       "      <td>Survivor</td>\n",
       "      <td>Pierce Brosnan|Milla Jovovich|Dylan McDermott|...</td>\n",
       "      <td>http://survivormovie.com/</td>\n",
       "      <td>James McTeigue</td>\n",
       "      <td>His Next Target is Now Hunting Him</td>\n",
       "      <td>...</td>\n",
       "      <td>96</td>\n",
       "      <td>Crime|Thriller|Action</td>\n",
       "      <td>Nu Image Films|Winkler Films|Millennium Films|...</td>\n",
       "      <td>5/21/2015</td>\n",
       "      <td>280</td>\n",
       "      <td>5.4</td>\n",
       "      <td>2015</td>\n",
       "      <td>18399991.9</td>\n",
       "      <td>0</td>\n",
       "      <td>-20000000</td>\n",
       "    </tr>\n",
       "    <tr>\n",
       "      <th>76</th>\n",
       "      <td>308369</td>\n",
       "      <td>tt2582496</td>\n",
       "      <td>2.141506</td>\n",
       "      <td>0</td>\n",
       "      <td>0</td>\n",
       "      <td>Me and Earl and the Dying Girl</td>\n",
       "      <td>Thomas Mann|RJ Cyler|Olivia Cooke|Connie Britt...</td>\n",
       "      <td>http://www.foxsearchlight.com/meandearlandthed...</td>\n",
       "      <td>Alfonso Gomez-Rejon</td>\n",
       "      <td>A Little Friendship Never Killed Anyone.</td>\n",
       "      <td>...</td>\n",
       "      <td>105</td>\n",
       "      <td>Comedy|Drama</td>\n",
       "      <td>Indian Paintbrush</td>\n",
       "      <td>6/12/2015</td>\n",
       "      <td>569</td>\n",
       "      <td>7.7</td>\n",
       "      <td>2015</td>\n",
       "      <td>0</td>\n",
       "      <td>0</td>\n",
       "      <td>0</td>\n",
       "    </tr>\n",
       "    <tr>\n",
       "      <th>144</th>\n",
       "      <td>378373</td>\n",
       "      <td>tt3532278</td>\n",
       "      <td>1.128081</td>\n",
       "      <td>0</td>\n",
       "      <td>0</td>\n",
       "      <td>Brothers of the Wind</td>\n",
       "      <td>Manuel Camacho|Jean Reno|Tobias Moretti|Eva Kuen</td>\n",
       "      <td>http://www.terramater.at/cinema/brothers-of-th...</td>\n",
       "      <td>Gerado Olivares|Otmar Penker</td>\n",
       "      <td>Sometimes a friendship sets you free</td>\n",
       "      <td>...</td>\n",
       "      <td>98</td>\n",
       "      <td>Adventure|Drama|Family</td>\n",
       "      <td>Terra Mater Factual Studios</td>\n",
       "      <td>12/24/2015</td>\n",
       "      <td>11</td>\n",
       "      <td>7.5</td>\n",
       "      <td>2015</td>\n",
       "      <td>0</td>\n",
       "      <td>0</td>\n",
       "      <td>0</td>\n",
       "    </tr>\n",
       "    <tr>\n",
       "      <th>160</th>\n",
       "      <td>251516</td>\n",
       "      <td>tt3472226</td>\n",
       "      <td>0.953046</td>\n",
       "      <td>630019</td>\n",
       "      <td>0</td>\n",
       "      <td>Kung Fury</td>\n",
       "      <td>David Sandberg|Jorma Taccone|Leopold Nilsson|A...</td>\n",
       "      <td>http://www.kungfury.com/</td>\n",
       "      <td>David Sandberg</td>\n",
       "      <td>It takes a cop from the future to fight an ene...</td>\n",
       "      <td>...</td>\n",
       "      <td>31</td>\n",
       "      <td>Action|Comedy|Science Fiction|Fantasy</td>\n",
       "      <td>Laser Unicorns</td>\n",
       "      <td>5/28/2015</td>\n",
       "      <td>487</td>\n",
       "      <td>7.7</td>\n",
       "      <td>2015</td>\n",
       "      <td>579617.225</td>\n",
       "      <td>0</td>\n",
       "      <td>-630019</td>\n",
       "    </tr>\n",
       "    <tr>\n",
       "      <th>175</th>\n",
       "      <td>342474</td>\n",
       "      <td>tt3289712</td>\n",
       "      <td>0.861179</td>\n",
       "      <td>0</td>\n",
       "      <td>0</td>\n",
       "      <td>Jenny's Wedding</td>\n",
       "      <td>Katherine Heigl|Tom Wilkinson|Alexis Bledel|Gr...</td>\n",
       "      <td>https://www.facebook.com/jennysweddingmovie</td>\n",
       "      <td>Mary Agnes Donoghue</td>\n",
       "      <td>Family is worth fighting for.</td>\n",
       "      <td>...</td>\n",
       "      <td>94</td>\n",
       "      <td>Comedy|Drama</td>\n",
       "      <td>MM Productions|Merced Media Partners|PalmStar ...</td>\n",
       "      <td>7/31/2015</td>\n",
       "      <td>92</td>\n",
       "      <td>5.2</td>\n",
       "      <td>2015</td>\n",
       "      <td>0</td>\n",
       "      <td>0</td>\n",
       "      <td>0</td>\n",
       "    </tr>\n",
       "  </tbody>\n",
       "</table>\n",
       "<p>5 rows × 22 columns</p>\n",
       "</div>"
      ],
      "text/plain": [
       "0        id    imdb_id popularity    budget revenue  \\\n",
       "68   334074  tt3247714   2.331636  20000000       0   \n",
       "76   308369  tt2582496   2.141506         0       0   \n",
       "144  378373  tt3532278   1.128081         0       0   \n",
       "160  251516  tt3472226   0.953046    630019       0   \n",
       "175  342474  tt3289712   0.861179         0       0   \n",
       "\n",
       "0                    original_title  \\\n",
       "68                         Survivor   \n",
       "76   Me and Earl and the Dying Girl   \n",
       "144            Brothers of the Wind   \n",
       "160                       Kung Fury   \n",
       "175                 Jenny's Wedding   \n",
       "\n",
       "0                                                 cast  \\\n",
       "68   Pierce Brosnan|Milla Jovovich|Dylan McDermott|...   \n",
       "76   Thomas Mann|RJ Cyler|Olivia Cooke|Connie Britt...   \n",
       "144   Manuel Camacho|Jean Reno|Tobias Moretti|Eva Kuen   \n",
       "160  David Sandberg|Jorma Taccone|Leopold Nilsson|A...   \n",
       "175  Katherine Heigl|Tom Wilkinson|Alexis Bledel|Gr...   \n",
       "\n",
       "0                                             homepage  \\\n",
       "68                           http://survivormovie.com/   \n",
       "76   http://www.foxsearchlight.com/meandearlandthed...   \n",
       "144  http://www.terramater.at/cinema/brothers-of-th...   \n",
       "160                           http://www.kungfury.com/   \n",
       "175        https://www.facebook.com/jennysweddingmovie   \n",
       "\n",
       "0                        director  \\\n",
       "68                 James McTeigue   \n",
       "76            Alfonso Gomez-Rejon   \n",
       "144  Gerado Olivares|Otmar Penker   \n",
       "160                David Sandberg   \n",
       "175           Mary Agnes Donoghue   \n",
       "\n",
       "0                                              tagline  ... runtime  \\\n",
       "68                  His Next Target is Now Hunting Him  ...      96   \n",
       "76            A Little Friendship Never Killed Anyone.  ...     105   \n",
       "144               Sometimes a friendship sets you free  ...      98   \n",
       "160  It takes a cop from the future to fight an ene...  ...      31   \n",
       "175                      Family is worth fighting for.  ...      94   \n",
       "\n",
       "0                                   genres  \\\n",
       "68                   Crime|Thriller|Action   \n",
       "76                            Comedy|Drama   \n",
       "144                 Adventure|Drama|Family   \n",
       "160  Action|Comedy|Science Fiction|Fantasy   \n",
       "175                           Comedy|Drama   \n",
       "\n",
       "0                                 production_companies release_date  \\\n",
       "68   Nu Image Films|Winkler Films|Millennium Films|...    5/21/2015   \n",
       "76                                   Indian Paintbrush    6/12/2015   \n",
       "144                        Terra Mater Factual Studios   12/24/2015   \n",
       "160                                     Laser Unicorns    5/28/2015   \n",
       "175  MM Productions|Merced Media Partners|PalmStar ...    7/31/2015   \n",
       "\n",
       "0   vote_count vote_average release_year  budget_adj revenue_adj     Profit  \n",
       "68         280          5.4         2015  18399991.9           0  -20000000  \n",
       "76         569          7.7         2015           0           0          0  \n",
       "144         11          7.5         2015           0           0          0  \n",
       "160        487          7.7         2015  579617.225           0    -630019  \n",
       "175         92          5.2         2015           0           0          0  \n",
       "\n",
       "[5 rows x 22 columns]"
      ]
     },
     "execution_count": 7,
     "metadata": {},
     "output_type": "execute_result"
    }
   ],
   "source": [
    "most_revenue = df[df[\"revenue\"]==max(df[\"revenue\"])]\n",
    "most_revenue.head()\n",
    "print(\"The movie with the most revenue was {m}\".format(m = most_revenue.iloc[0, 5]))\n",
    "\n",
    "\n",
    "least_revenue = df[df[\"revenue\"]==min(df[\"revenue\"])]\n",
    "least_revenue.head()"
   ]
  },
  {
   "cell_type": "markdown",
   "metadata": {},
   "source": [
    "Finding movie with the shortest and longest runtime"
   ]
  },
  {
   "cell_type": "code",
   "execution_count": 8,
   "metadata": {},
   "outputs": [
    {
     "name": "stdout",
     "output_type": "stream",
     "text": [
      "The movie with the most runtime was Band of Brothers, having a runtime of 705 minutes\n"
     ]
    },
    {
     "data": {
      "text/html": [
       "<div>\n",
       "<style scoped>\n",
       "    .dataframe tbody tr th:only-of-type {\n",
       "        vertical-align: middle;\n",
       "    }\n",
       "\n",
       "    .dataframe tbody tr th {\n",
       "        vertical-align: top;\n",
       "    }\n",
       "\n",
       "    .dataframe thead th {\n",
       "        text-align: right;\n",
       "    }\n",
       "</style>\n",
       "<table border=\"1\" class=\"dataframe\">\n",
       "  <thead>\n",
       "    <tr style=\"text-align: right;\">\n",
       "      <th></th>\n",
       "      <th>id</th>\n",
       "      <th>imdb_id</th>\n",
       "      <th>popularity</th>\n",
       "      <th>budget</th>\n",
       "      <th>revenue</th>\n",
       "      <th>original_title</th>\n",
       "      <th>cast</th>\n",
       "      <th>homepage</th>\n",
       "      <th>director</th>\n",
       "      <th>tagline</th>\n",
       "      <th>...</th>\n",
       "      <th>runtime</th>\n",
       "      <th>genres</th>\n",
       "      <th>production_companies</th>\n",
       "      <th>release_date</th>\n",
       "      <th>vote_count</th>\n",
       "      <th>vote_average</th>\n",
       "      <th>release_year</th>\n",
       "      <th>budget_adj</th>\n",
       "      <th>revenue_adj</th>\n",
       "      <th>Profit</th>\n",
       "    </tr>\n",
       "  </thead>\n",
       "  <tbody>\n",
       "    <tr>\n",
       "      <th>335</th>\n",
       "      <td>361931</td>\n",
       "      <td>tt5065822</td>\n",
       "      <td>0.357654</td>\n",
       "      <td>0</td>\n",
       "      <td>0</td>\n",
       "      <td>Ronaldo</td>\n",
       "      <td>Cristiano Ronaldo</td>\n",
       "      <td>http://www.ronaldothefilm.com</td>\n",
       "      <td>Anthony Wonke</td>\n",
       "      <td>Astonishing. Intimate. Definitive.</td>\n",
       "      <td>...</td>\n",
       "      <td>0</td>\n",
       "      <td>Documentary</td>\n",
       "      <td>On The Corner Films|We Came, We Saw, We Conque...</td>\n",
       "      <td>11/9/2015</td>\n",
       "      <td>80</td>\n",
       "      <td>6.5</td>\n",
       "      <td>2015</td>\n",
       "      <td>0</td>\n",
       "      <td>0</td>\n",
       "      <td>0</td>\n",
       "    </tr>\n",
       "    <tr>\n",
       "      <th>1290</th>\n",
       "      <td>286372</td>\n",
       "      <td>tt1791681</td>\n",
       "      <td>0.037459</td>\n",
       "      <td>3250000</td>\n",
       "      <td>0</td>\n",
       "      <td>Treehouse</td>\n",
       "      <td>J. Michael Trautmann|Dana Melanie|Daniel Fredr...</td>\n",
       "      <td>http://www.imdb.com/title/tt1791681/</td>\n",
       "      <td>Michael G. Bartlett</td>\n",
       "      <td>No kids allowed</td>\n",
       "      <td>...</td>\n",
       "      <td>0</td>\n",
       "      <td>Thriller|Horror|Mystery</td>\n",
       "      <td>Tiberius Film</td>\n",
       "      <td>10/20/2014</td>\n",
       "      <td>16</td>\n",
       "      <td>3.4</td>\n",
       "      <td>2014</td>\n",
       "      <td>2993545.915</td>\n",
       "      <td>0</td>\n",
       "      <td>-3250000</td>\n",
       "    </tr>\n",
       "  </tbody>\n",
       "</table>\n",
       "<p>2 rows × 22 columns</p>\n",
       "</div>"
      ],
      "text/plain": [
       "0         id    imdb_id popularity   budget revenue original_title  \\\n",
       "335   361931  tt5065822   0.357654        0       0        Ronaldo   \n",
       "1290  286372  tt1791681   0.037459  3250000       0      Treehouse   \n",
       "\n",
       "0                                                  cast  \\\n",
       "335                                   Cristiano Ronaldo   \n",
       "1290  J. Michael Trautmann|Dana Melanie|Daniel Fredr...   \n",
       "\n",
       "0                                 homepage             director  \\\n",
       "335          http://www.ronaldothefilm.com        Anthony Wonke   \n",
       "1290  http://www.imdb.com/title/tt1791681/  Michael G. Bartlett   \n",
       "\n",
       "0                                tagline  ... runtime  \\\n",
       "335   Astonishing. Intimate. Definitive.  ...       0   \n",
       "1290                     No kids allowed  ...       0   \n",
       "\n",
       "0                      genres  \\\n",
       "335               Documentary   \n",
       "1290  Thriller|Horror|Mystery   \n",
       "\n",
       "0                                  production_companies release_date  \\\n",
       "335   On The Corner Films|We Came, We Saw, We Conque...    11/9/2015   \n",
       "1290                                      Tiberius Film   10/20/2014   \n",
       "\n",
       "0    vote_count vote_average release_year   budget_adj revenue_adj    Profit  \n",
       "335          80          6.5         2015            0           0         0  \n",
       "1290         16          3.4         2014  2993545.915           0  -3250000  \n",
       "\n",
       "[2 rows x 22 columns]"
      ]
     },
     "execution_count": 8,
     "metadata": {},
     "output_type": "execute_result"
    }
   ],
   "source": [
    "most_time = df[df[\"runtime\"]==max(df[\"runtime\"])]\n",
    "most_time.head()\n",
    "print(\"The movie with the most runtime was {m}, having a runtime of {r} minutes\".format(m = most_time.iloc[0, 5], r = most_time.iloc[0, 12]))\n",
    "\n",
    "\n",
    "least_time = df[df[\"runtime\"]==min(df[\"runtime\"])]\n",
    "least_time.head()"
   ]
  },
  {
   "cell_type": "markdown",
   "metadata": {},
   "source": [
    "Movies with highest and lowest votes"
   ]
  },
  {
   "cell_type": "code",
   "execution_count": 9,
   "metadata": {},
   "outputs": [
    {
     "name": "stdout",
     "output_type": "stream",
     "text": [
      "The movie with the most votes is Inception, recieving a total of 9767 votes.\n"
     ]
    }
   ],
   "source": [
    "most_vote = df[df['vote_count']==max(df['vote_count'])]\n",
    "most_vote.head()\n",
    "print(\"The movie with the most votes is {m}, recieving a total of {v} votes.\".format(m = most_vote.iloc[0, 5], v = most_vote.iloc[0, 16]))"
   ]
  },
  {
   "cell_type": "markdown",
   "metadata": {},
   "source": [
    "Finding the year with the highest profit rate"
   ]
  },
  {
   "cell_type": "code",
   "execution_count": 10,
   "metadata": {},
   "outputs": [
    {
     "data": {
      "image/png": "[encoded data removed]",
      "text/plain": [
       "<Figure size 432x288 with 1 Axes>"
      ]
     },
     "metadata": {
      "needs_background": "light"
     },
     "output_type": "display_data"
    },
    {
     "name": "stdout",
     "output_type": "stream",
     "text": [
      "Year with highest profit rate.\n",
      "\n",
      "    year total_profit\n",
      "52  2015  16849354885\n"
     ]
    }
   ],
   "source": [
    "ndf = df.groupby(\"release_year\")['Profit'].sum() #grouping dataframe by year and calculating total profit in every year\n",
    "ndf.head()\n",
    "\n",
    "profdict = {\"year\":ndf.index, \"total_profit\":ndf.values}\n",
    "x = ndf.index\n",
    "y = ndf.values\n",
    "prof_df = pd.DataFrame(profdict)\n",
    "prof_df.head()\n",
    "max_prof_df = prof_df[prof_df['total_profit']==max(prof_df['total_profit'])]\n",
    "max_prof_df.head()\n",
    "\n",
    "\n",
    "plt.xlabel(\"Year\")\n",
    "plt.ylabel(\"Total profit\")\n",
    "plt.plot(x, y)\n",
    "plt.show()\n",
    "\n",
    "\n",
    "print(\"Year with highest profit rate.\\n\")\n",
    "print(max_prof_df)"
   ]
  },
  {
   "cell_type": "markdown",
   "metadata": {},
   "source": [
    "Finding average runtime of movies from year to year"
   ]
  },
  {
   "cell_type": "code",
   "execution_count": 11,
   "metadata": {},
   "outputs": [
    {
     "data": {
      "image/png": "[encoded data removed]",
      "text/plain": [
       "<Figure size 432x288 with 1 Axes>"
      ]
     },
     "metadata": {
      "needs_background": "light"
     },
     "output_type": "display_data"
    }
   ],
   "source": [
    "mdf = df.groupby('release_year')['runtime'].mean()\n",
    "mdf.head()\n",
    "\n",
    "x = mdf.index\n",
    "y = mdf.values\n",
    "\n",
    "\n",
    "plt.xlabel('year')\n",
    "plt.ylabel('average runtime')\n",
    "plt.plot(x, y)\n",
    "plt.show()"
   ]
  },
  {
   "cell_type": "markdown",
   "metadata": {},
   "source": [
    "\n",
    "Finding which length movies are most liked by the audiences according to their popularity"
   ]
  },
  {
   "cell_type": "code",
   "execution_count": 12,
   "metadata": {},
   "outputs": [
    {
     "data": {
      "image/png": "[encoded data removed]",
      "text/plain": [
       "<Figure size 432x288 with 1 Axes>"
      ]
     },
     "metadata": {
      "needs_background": "light"
     },
     "output_type": "display_data"
    },
    {
     "name": "stdout",
     "output_type": "stream",
     "text": [
      "People do not enjoy watching movies having a very high runtime.\n"
     ]
    }
   ],
   "source": [
    "X = np.array(df['popularity'], dtype=float)\n",
    "Y = np.array(df['runtime'], dtype=float)\n",
    "\n",
    "\n",
    "plt.xlabel('Popularity')\n",
    "plt.ylabel('movie runtime')\n",
    "plt.scatter(X, Y, color = 'red')\n",
    "plt.show()\n",
    "\n",
    "\n",
    "print(\"People do not enjoy watching movies having a very high runtime.\")"
   ]
  },
  {
   "cell_type": "markdown",
   "metadata": {},
   "source": [
    "How Does The Revenue And Popularity differs Budget And Runtime? And How Does Popularity Depends On Profit?"
   ]
  },
  {
   "cell_type": "code",
   "execution_count": 13,
   "metadata": {},
   "outputs": [
    {
     "name": "stdout",
     "output_type": "stream",
     "text": [
      "[6.27454014e-09 8.10620721e-01]\n",
      "Equation of line representing relation between profit and popularity : \n",
      "popularity = 6.3e-09(profit) + 0.811\n"
     ]
    },
    {
     "data": {
      "image/png": "[encoded data removed]",
      "text/plain": [
       "<Figure size 432x288 with 1 Axes>"
      ]
     },
     "metadata": {
      "needs_background": "light"
     },
     "output_type": "display_data"
    },
    {
     "name": "stdout",
     "output_type": "stream",
     "text": [
      "Comparison of scatter plots : \n"
     ]
    },
    {
     "data": {
      "image/png": "[encoded data removed]",
      "text/plain": [
       "<Figure size 432x288 with 1 Axes>"
      ]
     },
     "metadata": {
      "needs_background": "light"
     },
     "output_type": "display_data"
    },
    {
     "data": {
      "image/png": "[encoded data removed]",
      "text/plain": [
       "<Figure size 432x288 with 1 Axes>"
      ]
     },
     "metadata": {
      "needs_background": "light"
     },
     "output_type": "display_data"
    },
    {
     "name": "stdout",
     "output_type": "stream",
     "text": [
      "The equation of line for revenue vs popularity :\n",
      "popularity = 5.5e-09(revenue) + 0.69\n",
      "The equation of line for budget vs runtime :\n",
      "runtime=1.6e-07(budget) + 100.66\n"
     ]
    }
   ],
   "source": [
    "#relation between popularity and profit\n",
    "x = df['Profit']\n",
    "y = df['popularity']\n",
    "profpop = pd.DataFrame({\"Profit\":x, \"Popularity\":y})\n",
    "fit = np.polyfit(np.array(x, dtype = float), np.array(y, dtype = float), deg=1) #vector containing parameters of line of best fit\n",
    "print(fit)\n",
    "print(\"Equation of line representing relation between profit and popularity : \")\n",
    "print(\"popularity = {m}(profit) + {c}\".format(m = round(fit[0], 10), c = round(fit[1], 3)))\n",
    "\n",
    "plt.plot(fit, color = 'red')\n",
    "plt.scatter(x, y)\n",
    "plt.xlabel('Profit(order of 1000000000 million)')\n",
    "plt.ylabel('popularity')\n",
    "plt.show()\n",
    "\n",
    "\n",
    "#revenue and popularity vs budget and runtime\n",
    "revenue = df['revenue']\n",
    "revenue.head()\n",
    "pop = df['popularity']\n",
    "budget = df['budget']\n",
    "runtime = df['runtime']\n",
    "\n",
    "print(\"Comparison of scatter plots : \")\n",
    "plt.subplot(1, 2, 1)\n",
    "plt.ylabel(\"popularity\")\n",
    "plt.xlabel(\"revenue\")\n",
    "plt.scatter(revenue, pop, color='orange')\n",
    "plt.show()\n",
    "\n",
    "plt.subplot(1, 2, 2)\n",
    "plt.xlabel(\"budget\")\n",
    "plt.ylabel(\"runtime\")\n",
    "plt.scatter(budget, runtime, color='red')\n",
    "plt.show()\n",
    "\n",
    "\n",
    "revenue = np.array(revenue, dtype=float)\n",
    "pop = np.array(pop, dtype=float)\n",
    "budget = np.array(budget, dtype=float)\n",
    "runtime = np.array(runtime, dtype=float)\n",
    "\n",
    "\n",
    "v1 = np.polyfit(revenue, pop, deg=1)               #vector containing parameters of line of best fit\n",
    "v2 = np.polyfit(budget, runtime, deg=1)\n",
    "print(\"The equation of line for revenue vs popularity :\\npopularity = {m}(revenue) + {c}\".format(m=round(v1[0], 10), c=round(v1[1], 2)))\n",
    "print(\"The equation of line for budget vs runtime :\\nruntime={m}(budget) + {c}\".format(m = round(v2[0], 8), c = round(v2[1], 2)))\n",
    "\n",
    "\n",
    "\n"
   ]
  },
  {
   "cell_type": "markdown",
   "metadata": {},
   "source": [
    "Finding which genre has highest release of movies"
   ]
  },
  {
   "cell_type": "code",
   "execution_count": 14,
   "metadata": {},
   "outputs": [
    {
     "name": "stdout",
     "output_type": "stream",
     "text": [
      "Drama is the movie genre with the highest number of releases\n",
      "There have been about 127 releases of drama movies\n"
     ]
    }
   ],
   "source": [
    "genre_series = df.groupby(\"genres\").size()\n",
    "genre_series.head()\n",
    "\n",
    "\n",
    "genre_df = pd.DataFrame({\"Genre\":genre_series.index, \"number of releases\":genre_series.values})\n",
    "best_genre = genre_df[genre_df['number of releases']==max(genre_df['number of releases'])]\n",
    "best_genre.head()\n",
    "\n",
    "\n",
    "print(\"Drama is the movie genre with the highest number of releases\")\n",
    "print(\"There have been about {n} releases of drama movies\".format(n=max(genre_series)))"
   ]
  },
  {
   "cell_type": "markdown",
   "metadata": {},
   "source": [
    "Top 20 Directors Who Direct Maximum Movies"
   ]
  },
  {
   "cell_type": "code",
   "execution_count": 15,
   "metadata": {},
   "outputs": [
    {
     "name": "stdout",
     "output_type": "stream",
     "text": [
      "Top 20 directors with most directed movies : \n"
     ]
    },
    {
     "data": {
      "text/html": [
       "<div>\n",
       "<style scoped>\n",
       "    .dataframe tbody tr th:only-of-type {\n",
       "        vertical-align: middle;\n",
       "    }\n",
       "\n",
       "    .dataframe tbody tr th {\n",
       "        vertical-align: top;\n",
       "    }\n",
       "\n",
       "    .dataframe thead th {\n",
       "        text-align: right;\n",
       "    }\n",
       "</style>\n",
       "<table border=\"1\" class=\"dataframe\">\n",
       "  <thead>\n",
       "    <tr style=\"text-align: right;\">\n",
       "      <th></th>\n",
       "      <th>director</th>\n",
       "      <th>number of movies</th>\n",
       "    </tr>\n",
       "  </thead>\n",
       "  <tbody>\n",
       "    <tr>\n",
       "      <th>579</th>\n",
       "      <td>John Carpenter</td>\n",
       "      <td>17</td>\n",
       "    </tr>\n",
       "    <tr>\n",
       "      <th>1205</th>\n",
       "      <td>Steven Soderbergh</td>\n",
       "      <td>11</td>\n",
       "    </tr>\n",
       "    <tr>\n",
       "      <th>1206</th>\n",
       "      <td>Steven Spielberg</td>\n",
       "      <td>11</td>\n",
       "    </tr>\n",
       "    <tr>\n",
       "      <th>209</th>\n",
       "      <td>Clint Eastwood</td>\n",
       "      <td>8</td>\n",
       "    </tr>\n",
       "    <tr>\n",
       "      <th>1070</th>\n",
       "      <td>Robert Zemeckis</td>\n",
       "      <td>8</td>\n",
       "    </tr>\n",
       "    <tr>\n",
       "      <th>1038</th>\n",
       "      <td>Ridley Scott</td>\n",
       "      <td>8</td>\n",
       "    </tr>\n",
       "    <tr>\n",
       "      <th>977</th>\n",
       "      <td>Peter Jackson</td>\n",
       "      <td>8</td>\n",
       "    </tr>\n",
       "    <tr>\n",
       "      <th>1088</th>\n",
       "      <td>Ron Howard</td>\n",
       "      <td>7</td>\n",
       "    </tr>\n",
       "    <tr>\n",
       "      <th>959</th>\n",
       "      <td>Paul W.S. Anderson</td>\n",
       "      <td>7</td>\n",
       "    </tr>\n",
       "    <tr>\n",
       "      <th>263</th>\n",
       "      <td>David Fincher</td>\n",
       "      <td>7</td>\n",
       "    </tr>\n",
       "    <tr>\n",
       "      <th>809</th>\n",
       "      <td>Martin Scorsese</td>\n",
       "      <td>7</td>\n",
       "    </tr>\n",
       "    <tr>\n",
       "      <th>202</th>\n",
       "      <td>Christopher Nolan</td>\n",
       "      <td>7</td>\n",
       "    </tr>\n",
       "    <tr>\n",
       "      <th>1004</th>\n",
       "      <td>Quentin Tarantino</td>\n",
       "      <td>6</td>\n",
       "    </tr>\n",
       "    <tr>\n",
       "      <th>365</th>\n",
       "      <td>Francis Ford Coppola</td>\n",
       "      <td>6</td>\n",
       "    </tr>\n",
       "    <tr>\n",
       "      <th>366</th>\n",
       "      <td>Francis Lawrence</td>\n",
       "      <td>6</td>\n",
       "    </tr>\n",
       "    <tr>\n",
       "      <th>846</th>\n",
       "      <td>Michael Bay</td>\n",
       "      <td>6</td>\n",
       "    </tr>\n",
       "    <tr>\n",
       "      <th>155</th>\n",
       "      <td>Brian Robbins</td>\n",
       "      <td>5</td>\n",
       "    </tr>\n",
       "    <tr>\n",
       "      <th>418</th>\n",
       "      <td>Gore Verbinski</td>\n",
       "      <td>5</td>\n",
       "    </tr>\n",
       "    <tr>\n",
       "      <th>1111</th>\n",
       "      <td>Sam Raimi</td>\n",
       "      <td>5</td>\n",
       "    </tr>\n",
       "    <tr>\n",
       "      <th>964</th>\n",
       "      <td>Peter Berg</td>\n",
       "      <td>5</td>\n",
       "    </tr>\n",
       "  </tbody>\n",
       "</table>\n",
       "</div>"
      ],
      "text/plain": [
       "                  director  number of movies\n",
       "579         John Carpenter                17\n",
       "1205     Steven Soderbergh                11\n",
       "1206      Steven Spielberg                11\n",
       "209         Clint Eastwood                 8\n",
       "1070       Robert Zemeckis                 8\n",
       "1038          Ridley Scott                 8\n",
       "977          Peter Jackson                 8\n",
       "1088            Ron Howard                 7\n",
       "959     Paul W.S. Anderson                 7\n",
       "263          David Fincher                 7\n",
       "809        Martin Scorsese                 7\n",
       "202      Christopher Nolan                 7\n",
       "1004     Quentin Tarantino                 6\n",
       "365   Francis Ford Coppola                 6\n",
       "366       Francis Lawrence                 6\n",
       "846            Michael Bay                 6\n",
       "155          Brian Robbins                 5\n",
       "418         Gore Verbinski                 5\n",
       "1111             Sam Raimi                 5\n",
       "964             Peter Berg                 5"
      ]
     },
     "execution_count": 15,
     "metadata": {},
     "output_type": "execute_result"
    }
   ],
   "source": [
    "dir_series = df.groupby('director').size()\n",
    "dir_series.head()\n",
    "dir_df = pd.DataFrame({\"director\":dir_series.index, \"number of movies\":dir_series.values})\n",
    "dir_df.sort_values('number of movies', ascending=False, inplace=True) #sort by number of movies directed by each director in descending order\n",
    "print(\"Top 20 directors with most directed movies : \")\n",
    "dir_df.head(20)"
   ]
  },
  {
   "cell_type": "markdown",
   "metadata": {},
   "source": [
    "Top 20 production companies with highest number of releases\n",
    "\n",
    "Life time profit earned by each production company"
   ]
  },
  {
   "cell_type": "code",
   "execution_count": 16,
   "metadata": {},
   "outputs": [
    {
     "name": "stdout",
     "output_type": "stream",
     "text": [
      "Top 20 production companies with most releases : \n",
      "Greatest lifetime profit : \n"
     ]
    },
    {
     "data": {
      "text/html": [
       "<div>\n",
       "<style scoped>\n",
       "    .dataframe tbody tr th:only-of-type {\n",
       "        vertical-align: middle;\n",
       "    }\n",
       "\n",
       "    .dataframe tbody tr th {\n",
       "        vertical-align: top;\n",
       "    }\n",
       "\n",
       "    .dataframe thead th {\n",
       "        text-align: right;\n",
       "    }\n",
       "</style>\n",
       "<table border=\"1\" class=\"dataframe\">\n",
       "  <thead>\n",
       "    <tr style=\"text-align: right;\">\n",
       "      <th></th>\n",
       "      <th>production_companies</th>\n",
       "      <th>Profit</th>\n",
       "    </tr>\n",
       "  </thead>\n",
       "  <tbody>\n",
       "    <tr>\n",
       "      <th>1671</th>\n",
       "      <td>Walt Disney Pictures|Pixar Animation Studios</td>\n",
       "      <td>5247998913</td>\n",
       "    </tr>\n",
       "  </tbody>\n",
       "</table>\n",
       "</div>"
      ],
      "text/plain": [
       "                              production_companies      Profit\n",
       "1671  Walt Disney Pictures|Pixar Animation Studios  5247998913"
      ]
     },
     "execution_count": 16,
     "metadata": {},
     "output_type": "execute_result"
    }
   ],
   "source": [
    "#Finding top 20 production companies with highest number of releases\n",
    "pc_series = df.groupby('production_companies').size()\n",
    "pc_df = pd.DataFrame({\"production_companies\":pc_series.index, \"number of releases\":pc_series.values})\n",
    "pc_df.sort_values('number of releases', ascending=False, inplace=True)\n",
    "print(\"Top 20 production companies with most releases : \")\n",
    "pc_df.head(20)\n",
    "\n",
    "\n",
    "#Finding life time profit earned by each production company\n",
    "pc_profit_df = df.groupby('production_companies')['Profit'].sum().reset_index()\n",
    "pc_profit_df.head(10000)\n",
    "print(\"Greatest lifetime profit : \")\n",
    "pc_profit_df[pc_profit_df['Profit']==max(pc_profit_df['Profit'])].head()\n",
    "\n"
   ]
  },
  {
   "cell_type": "markdown",
   "metadata": {},
   "source": [
    "Which Month Released Highest Number Of Movies In All Of The Years? And Which Month Made The Highest Average Revenue?"
   ]
  },
  {
   "cell_type": "code",
   "execution_count": 17,
   "metadata": {},
   "outputs": [
    {
     "data": {
      "image/png": "[encoded data removed]",
      "text/plain": [
       "<Figure size 432x288 with 1 Axes>"
      ]
     },
     "metadata": {
      "needs_background": "light"
     },
     "output_type": "display_data"
    },
    {
     "name": "stdout",
     "output_type": "stream",
     "text": [
      "Month with highest number of releases : September\n"
     ]
    },
    {
     "data": {
      "image/png": "[encoded data removed]",
      "text/plain": [
       "<Figure size 432x288 with 1 Axes>"
      ]
     },
     "metadata": {
      "needs_background": "light"
     },
     "output_type": "display_data"
    },
    {
     "name": "stdout",
     "output_type": "stream",
     "text": [
      "Month with greatest amount of revenue : June\n"
     ]
    }
   ],
   "source": [
    "#Finding month with highest movie releases\n",
    "df['release_date']=pd.to_datetime(df['release_date'])\n",
    "df['release_date'].head()\n",
    "df['month of release'] = df['release_date'].astype(str).str[5:7]\n",
    "df['month of release'].head()\n",
    "month_data = df.groupby('month of release').size()\n",
    "\n",
    "x = month_data.index\n",
    "y = month_data.values\n",
    "plt.bar(x, y, color = 'green')\n",
    "plt.xlabel(\"Month\")\n",
    "plt.ylabel(\"Number of releases\")\n",
    "plt.show()\n",
    "print(\"Month with highest number of releases : September\")\n",
    "\n",
    "#Finding which month has highest average revenue\n",
    "revenue_data = df.groupby(['month of release'])['revenue'].mean().reset_index()\n",
    "revenue_data.head()\n",
    "X = revenue_data['month of release']\n",
    "Y = revenue_data['revenue']\n",
    "plt.bar(X, Y, color = 'red')\n",
    "plt.xlabel(\"Month\")\n",
    "plt.ylabel(\"Average revenue\")\n",
    "plt.show()\n",
    "print(\"Month with greatest amount of revenue : June\")"
   ]
  }
 ],
 "metadata": {
  "interpreter": {
   "hash": "aee8b7b246df8f9039afb4144a1f6fd8d2ca17a180786b69acc140d282b71a49"
  },
  "kernelspec": {
   "display_name": "Python 3.10.2 64-bit",
   "language": "python",
   "name": "python3"
  },
  "language_info": {
   "codemirror_mode": {
    "name": "ipython",
    "version": 3
   },
   "file_extension": ".py",
   "mimetype": "text/x-python",
   "name": "python",
   "nbconvert_exporter": "python",
   "pygments_lexer": "ipython3",
   "version": "3.10.2"
  },
  "orig_nbformat": 4
 },
 "nbformat": 4,
 "nbformat_minor": 2
}
